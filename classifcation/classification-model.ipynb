{
 "cells": [
  {
   "cell_type": "code",
   "execution_count": null,
   "metadata": {},
   "outputs": [],
   "source": [
    "import pandas as pd\n",
    "\n",
    "data=pd.read_csv('..C:\\Users\\91984\\classifcation\\COVID-Clinical-data-set.csv')\n",
    "data=data[data['Diagnosis']!='H1N1']\n",
    "# Among 50 independent fields we are choosing only four fields namely 'Age','Sex','CTscanResults' & 'Fever'\n",
    "# Amoung all the records we are choosing those records without null values in independent fields\n",
    "data=data[data.InitialPCRDiagnosis.notnull()]\n",
    "data=data[data.CTscanResults.notnull()]\n",
    "data=data[data.Fever.notnull()]"
   ]
  },
  {
   "cell_type": "code",
   "execution_count": null,
   "metadata": {},
   "outputs": [],
   "source": [
    "import numpy as np\n",
    "\n",
    "'''Classification model can be built only with fields having numerical values\n",
    "   hence those fields having string values are converted into numerical values\n",
    "   for example in 'Fever' field Yes is replaced with 1 and No is replace with 0'''\n",
    "\n",
    "data['CTscanResults']=data['CTscanResults'].map({'Pos':1,'Neg':0})\n",
    "data['Fever']=data['Fever'].map({'Yes':1,'No':0})\n",
    "data['InitialPCRDiagnosis']=data['InitialPCRDiagnosis'].map({'Pos':1,'Neg':0})\n",
    "data['Sex']=data['Sex'].map({'M':1,'F':0})\n",
    "data['InitialPCRDiagnosis']=data['InitialPCRDiagnosis'].replace(np.nan,0)\n",
    "\n",
    "# We are extracting the independant variables in seperate dataframe and dependent variable in another dataframe\n",
    "indept=data[['Age','Sex','CTscanResults','Fever']]\n",
    "dept=data['InitialPCRDiagnosis']\n"
   ]
  },
  {
   "cell_type": "code",
   "execution_count": null,
   "metadata": {},
   "outputs": [],
   "source": [
    "from sklearn.model_selection import train_test_split\n",
    "from sklearn.tree import DecisionTreeClassifier\n",
    "from sklearn.metrics import accuracy_score\n",
    "\n",
    "#We are spliting the available dataset into two parts ie training set with 80% of records and testing set with 20% of record\n",
    "xtrain,xtest,ytrain,ytest=train_test_split(indept,dept,test_size=0.2,random_state=0)\n",
    "#We are using decisiontree classifier model\n",
    "model=DecisionTreeClassifier()\n",
    "\n",
    "model.fit(xtrain,ytrain)\n",
    "ypred=model.predict(xtest)\n",
    "\n",
    "accur_score=accuracy_score(ytest,ypred)\n",
    "print(\"The accuracy of our prediction is\")\n",
    "print(accur_score)\n",
    "\n"
   ]
  }
 ],
 "metadata": {
  "kernelspec": {
   "display_name": "Python 3",
   "language": "python",
   "name": "python3"
  },
  "language_info": {
   "codemirror_mode": {
    "name": "ipython",
    "version": 3
   },
   "file_extension": ".py",
   "mimetype": "text/x-python",
   "name": "python",
   "nbconvert_exporter": "python",
   "pygments_lexer": "ipython3",
   "version": "3.9.0"
  },
  "orig_nbformat": 4
 },
 "nbformat": 4,
 "nbformat_minor": 2
}
